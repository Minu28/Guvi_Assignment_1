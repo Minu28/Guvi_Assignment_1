{
 "cells": [
  {
   "cell_type": "code",
   "execution_count": 1,
   "id": "6007a507",
   "metadata": {},
   "outputs": [],
   "source": [
    "import re\n",
    "import pandas as pd\n",
    "#email verification\n",
    "def check_email(email):\n",
    "    regex = \"^[a-zA-Z0-9-_]+@[a-zA-Z0-9]+\\.[a-z]{1,3}$\"\n",
    "    if (re.search(regex, email)):\n",
    "        print(\"Email is valid\")\n",
    "    else:\n",
    "        print(\"Email is Invalid\")\n"
   ]
  },
  {
   "cell_type": "code",
   "execution_count": 2,
   "id": "bbc971d5",
   "metadata": {},
   "outputs": [],
   "source": [
    "\n",
    "def pass_check(password):\n",
    "    special_char=['!','@','#','$','%','^','&','*','_','-','.','~']\n",
    "    val=True\n",
    "\n",
    "    if len(password)<5:\n",
    "        print(\"Length should be at least 5\")\n",
    "        val=False\n",
    "\n",
    "    if len(password)>16:\n",
    "        print(\"Length should not be greater than 16\")\n",
    "        val=False\n",
    "\n",
    "    if not any(char in special_char for char in password):\n",
    "        print(\"password should have at least 1 special character\")\n",
    "        val=False\n",
    "\n",
    "    if not any(char.isupper() for char in password):\n",
    "        print(\"password should have at least 1 upper case character\")\n",
    "        val=False\n",
    "\n",
    "    if not any(char.islower() for char in password):\n",
    "        print(\"Password should have at least 1 lower case character\")\n",
    "        val=False\n",
    "\n",
    "    if not any(char.isdigit() for char in password):\n",
    "        print(\"Passwaord should have at least 1 number\")\n",
    "        val=False\n",
    "\n",
    "    if val:\n",
    "        return val"
   ]
  },
  {
   "cell_type": "code",
   "execution_count": 3,
   "id": "2cdf1d13",
   "metadata": {},
   "outputs": [
    {
     "name": "stdout",
     "output_type": "stream",
     "text": [
      "Enter email address: minalwaman@gmail.com\n"
     ]
    }
   ],
   "source": [
    "email = input(\"Enter email address: \")"
   ]
  },
  {
   "cell_type": "code",
   "execution_count": 5,
   "id": "d7d435a4",
   "metadata": {},
   "outputs": [
    {
     "name": "stdout",
     "output_type": "stream",
     "text": [
      "Email is valid\n",
      "None\n"
     ]
    }
   ],
   "source": [
    "print(check_email(email))"
   ]
  },
  {
   "cell_type": "code",
   "execution_count": null,
   "id": "e28de194",
   "metadata": {
    "scrolled": true
   },
   "outputs": [],
   "source": [
    "password=input(\"Enter Password:\" )\n",
    "print(pass_check(password))"
   ]
  },
  {
   "cell_type": "code",
   "execution_count": 7,
   "id": "3164eec8",
   "metadata": {},
   "outputs": [],
   "source": [
    "def signup():\n",
    "    email = input(\"Enter email address: \")\n",
    "    print(check_email(email))\n",
    "    password=input(\"Enter Password:\" )\n",
    "    print(pass_check(password))\n",
    "    with open(\"email_pwd_details.txt\", \"a+\") as f:\n",
    "    #move read cursor to start of the file\n",
    "        f.seek(0)\n",
    "        #if file is not empty then append\n",
    "        data=f.read(100)\n",
    "        #f.write('User_name' + \",\")\n",
    "        #f.write('spassword' + \"\\n\")\n",
    "        if len(data)>0:\n",
    "            f.write(\"\\n\")\n",
    "        #append text of the end of the file\n",
    "        f.write(email + \",\")\n",
    "        f.write(password)\n",
    "    f.close()\n",
    "    print(\"You have registered successfully!\")\n",
    "    "
   ]
  },
  {
   "cell_type": "code",
   "execution_count": null,
   "id": "8d1b2338",
   "metadata": {
    "scrolled": true
   },
   "outputs": [],
   "source": [
    "email=input(\"Enter your email id:\")\n",
    "password=input(\"Enter password:\")\n",
    "with open(\"email_pwd_details.txt\",\"r\") as f:\n",
    "    \n",
    "    User_name,spassword=f.read().split(\"\\n\")\n",
    "f.close()\n",
    "if email==user_name and password==spassword:\n",
    "    print(\"Login successfully!\")\n",
    "else:\n",
    "    print(\"Login failed ! \\n\")"
   ]
  },
  {
   "cell_type": "code",
   "execution_count": null,
   "id": "34818fbe",
   "metadata": {},
   "outputs": [],
   "source": [
    "def login():\n",
    "    email=input(\"Enter your email id:\")\n",
    "    password=input(\"Enter password:\")\n",
    "    with open(\"email_pwd_details.txt\",\"r\") as f:\n",
    "        User_name,Password=f.read().split(\"\\n\")\n",
    "    f.close()\n",
    "    if email==user_name and password==Password:\n",
    "        print(\"Login successfully!\")\n",
    "    else:\n",
    "        print(\"Login failed ! \\n\")"
   ]
  },
  {
   "cell_type": "code",
   "execution_count": null,
   "id": "9cf5e6e3",
   "metadata": {},
   "outputs": [],
   "source": [
    "while 1:\n",
    "    print(\"*****Login system******\")\n",
    "    print(\"1.signup\")\n",
    "    print(\"2.login\")\n",
    "    print(\"3.Exit\")\n",
    "    ch=int(input(\"Enter your choice\"))\n",
    "    if ch==1:\n",
    "        signup()\n",
    "    elif ch==2:\n",
    "        login()\n",
    "    elif ch==3:\n",
    "        break\n",
    "    else:\n",
    "        Print(\"Wrong choice\")"
   ]
  },
  {
   "cell_type": "code",
   "execution_count": null,
   "id": "b08bae28",
   "metadata": {},
   "outputs": [],
   "source": []
  }
 ],
 "metadata": {
  "kernelspec": {
   "display_name": "Python 3 (ipykernel)",
   "language": "python",
   "name": "python3"
  },
  "language_info": {
   "codemirror_mode": {
    "name": "ipython",
    "version": 3
   },
   "file_extension": ".py",
   "mimetype": "text/x-python",
   "name": "python",
   "nbconvert_exporter": "python",
   "pygments_lexer": "ipython3",
   "version": "3.10.2"
  }
 },
 "nbformat": 4,
 "nbformat_minor": 5
}
